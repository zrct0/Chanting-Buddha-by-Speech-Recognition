{
 "cells": [
  {
   "cell_type": "code",
   "execution_count": 1,
   "metadata": {},
   "outputs": [],
   "source": [
    "import tensorflow as tf\n",
    "import tensorflowjs as tfjs "
   ]
  },
  {
   "cell_type": "code",
   "execution_count": 2,
   "metadata": {},
   "outputs": [
    {
     "name": "stdout",
     "output_type": "stream",
     "text": [
      "WARNING:tensorflow:From c:\\program files\\python37\\lib\\site-packages\\tensorflow_core\\python\\ops\\math_grad.py:1424: where (from tensorflow.python.ops.array_ops) is deprecated and will be removed in a future version.\n",
      "Instructions for updating:\n",
      "Use tf.where in 2.0, which has the same broadcast rule as np.where\n"
     ]
    }
   ],
   "source": [
    "#model_epd = tf.keras.models.load_model(r\"D:\\语音识别\\念佛计数\\PFB_EndPointDetect.h5\")\n",
    "#model_recognition = tf.keras.models.load_model(r\"D:\\语音识别\\念佛计数\\PFB_Recognition_1024_32Dense.h5\")\n",
    "model_countor = tf.keras.models.load_model(r\"D:\\语音识别\\念佛计数\\PFB_Countor_Input32.h5\")"
   ]
  },
  {
   "cell_type": "code",
   "execution_count": 3,
   "metadata": {},
   "outputs": [],
   "source": [
    "tfjs_target_dir = r\"D:\\语音识别\\念佛计数\"\n",
    "#tfjs.converters.save_keras_model(model_epd, tfjs_target_dir + \"/MODEL_PFB_EPD\")\n",
    "#tfjs.converters.save_keras_model(model_recognition, tfjs_target_dir+ \"/MODEL_PFB_REC\")\n",
    "tfjs.converters.save_keras_model(model_countor, tfjs_target_dir + \"/MODEL_PFB_CTOR\")"
   ]
  },
  {
   "cell_type": "code",
   "execution_count": null,
   "metadata": {},
   "outputs": [],
   "source": []
  }
 ],
 "metadata": {
  "kernelspec": {
   "display_name": "Python 3",
   "language": "python",
   "name": "python3"
  },
  "language_info": {
   "codemirror_mode": {
    "name": "ipython",
    "version": 3
   },
   "file_extension": ".py",
   "mimetype": "text/x-python",
   "name": "python",
   "nbconvert_exporter": "python",
   "pygments_lexer": "ipython3",
   "version": "3.7.4"
  }
 },
 "nbformat": 4,
 "nbformat_minor": 2
}
