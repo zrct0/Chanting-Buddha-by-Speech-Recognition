{
 "cells": [
  {
   "cell_type": "code",
   "execution_count": null,
   "metadata": {},
   "outputs": [],
   "source": [
    "import pyaudio\n",
    "import os\n",
    "import wave\n",
    "import numpy as np\n",
    "\n",
    "LETTER = \"10\"\n",
    "SUB_FOLDER = \"单字连续录音\"\n",
    "WAVE_FILE_NEW_DIR = r\"D:/语音识别/念佛计数/{0}/{1}\".format(SUB_FOLDER ,LETTER)\n",
    "\n",
    "CHUNK = 1024\n",
    "FORMAT = pyaudio.paInt16\n",
    "CHANNELS = 1\n",
    "RATE = 16000\n",
    "RECORD_SECONDS = 20\n",
    "\n",
    "p = pyaudio.PyAudio()\n",
    "\n",
    "stream = p.open(format=FORMAT,\n",
    "                channels=CHANNELS,\n",
    "                rate=RATE,\n",
    "                input=True,\n",
    "                frames_per_buffer=CHUNK)\n",
    "\n",
    "bytes_soundData = []\n",
    "break_points = []\n",
    "RECORD_LENGHT = int(RATE / CHUNK * RECORD_SECONDS)\n",
    "for t in range(0, RECORD_LENGHT):\n",
    "    print(\"\\r\" + \"recording:{0}/{1}\".format(t, RECORD_LENGHT), end=\"\", flush=True)\n",
    "    data = stream.read(CHUNK)\n",
    "    bytes_soundData.append(data)\n",
    "\n",
    "stream.stop_stream()\n",
    "stream.close()\n",
    "p.terminate()\n",
    "\n",
    "filelist=os.listdir(WAVE_FILE_NEW_DIR)\n",
    "CLIP_NAME = 0\n",
    "for file in filelist:\n",
    "    os.rename(\"{0}/{1}\".format(WAVE_FILE_NEW_DIR, file), \"{0}/{1}{2}.WAV\".format(WAVE_FILE_NEW_DIR, LETTER, \"_%03d\" % CLIP_NAME))\n",
    "    CLIP_NAME += 1\n",
    "\n",
    "frames = bytes_soundData\n",
    "CLIP_NAME_STR = WAVE_FILE_NEW_DIR + \"/{0}\".format(LETTER) + \"_%03d\" % CLIP_NAME + \".WAV\"\n",
    "print(\"save file:{0}\".format(CLIP_NAME_STR))\n",
    "wf = wave.open(CLIP_NAME_STR, 'wb')\n",
    "wf.setnchannels(CHANNELS)\n",
    "wf.setsampwidth(p.get_sample_size(FORMAT))\n",
    "wf.setframerate(RATE)\n",
    "wf.writeframes(np.array(frames))\n",
    "wf.close()"
   ]
  }
 ],
 "metadata": {
  "kernelspec": {
   "display_name": "Python 3",
   "language": "python",
   "name": "python3"
  },
  "language_info": {
   "codemirror_mode": {
    "name": "ipython",
    "version": 3
   },
   "file_extension": ".py",
   "mimetype": "text/x-python",
   "name": "python",
   "nbconvert_exporter": "python",
   "pygments_lexer": "ipython3",
   "version": "3.7.4"
  }
 },
 "nbformat": 4,
 "nbformat_minor": 2
}
