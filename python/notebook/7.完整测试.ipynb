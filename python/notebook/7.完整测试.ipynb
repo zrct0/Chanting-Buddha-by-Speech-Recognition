{
 "cells": [
  {
   "cell_type": "code",
   "execution_count": 1,
   "metadata": {},
   "outputs": [],
   "source": [
    "import tensorflow as tf\n",
    "from python_speech_features import *\n",
    "import wave\n",
    "import pyaudio\n",
    "import numpy as np"
   ]
  },
  {
   "cell_type": "code",
   "execution_count": 2,
   "metadata": {},
   "outputs": [],
   "source": [
    "model_epd = tf.keras.models.load_model(r\"D:\\语音识别\\念佛计数\\h5\\EPD_MODEL.h5\")\n",
    "model_recognition = tf.keras.models.load_model(r\"D:\\语音识别\\念佛计数\\h5\\ACOUSTIC_32_MODEL_观音菩萨.h5\")\n",
    "model_countor = tf.keras.models.load_model(r\"D:\\语音识别\\念佛计数\\h5\\LANG_MODEL_观音菩萨.h5\")"
   ]
  },
  {
   "cell_type": "code",
   "execution_count": 3,
   "metadata": {},
   "outputs": [],
   "source": [
    "class IQueue:\n",
    "    def __init__(self, maxSize):\n",
    "        self.maxSize = maxSize\n",
    "        self.arr = [0] * maxSize\n",
    "        self.pointer = 0\n",
    "        self.size = 0\n",
    "        \n",
    "    def getArray(self):       \n",
    "        a = []\n",
    "        a.extend(self.arr[self.pointer:])\n",
    "        a.extend(self.arr[:self.pointer])        \n",
    "        return a\n",
    "    \n",
    "    def push(self, value):\n",
    "        if self.pointer == self.maxSize:           \n",
    "            self.pointer = 0            \n",
    "        self.arr[self.pointer] = value\n",
    "        self.pointer += 1\n",
    "        if self.size < self.maxSize:\n",
    "            self.size += 1\n",
    "            \n",
    "def preprocessingForEpd(soundBytes):\n",
    "    mean = soundBytes.mean()\n",
    "    std = soundBytes.std()\n",
    "    soundBytes = (soundBytes - mean)/std  \n",
    "    return soundBytes\n",
    "\n",
    "def epd_predict(data, seq_length):\n",
    "    soundBytes = np.fromstring(np.array(data), dtype=np.int16)    \n",
    "    pfe = preprocessingForEpd(soundBytes).reshape(1,seq_length,1)    \n",
    "    epd = int(np.round(model_epd.predict(pfe)))   \n",
    "    return epd, soundBytes\n",
    "\n",
    "def preprocessingForRecognition(soundBytes):\n",
    "    soundBytes = (soundBytes - soundBytes.mean())/soundBytes.std()\n",
    "    mfcc_feat0 =  mfcc(soundBytes)\n",
    "    mfcc_feat1 = delta(mfcc_feat0, 1)\n",
    "    mfcc_feat2 = delta(mfcc_feat0, 2)    \n",
    "    feature = np.hstack((mfcc_feat0, mfcc_feat1, mfcc_feat2))    \n",
    "    feature = feature.reshape(1,-1,39,1)\n",
    "    return feature\n",
    "\n",
    "def recognition_predict(soundBytes):    \n",
    "    pfr = preprocessingForRecognition(soundBytes)    \n",
    "    rp = model_recognition.predict(pfr)   \n",
    "    return rp\n",
    "\n",
    "def countor_predict(q):\n",
    "    slices_rps = q.getArray()      \n",
    "    rp_reshape = np.reshape((slices_rps), (1,1,160))    \n",
    "    ctor = int(np.round(model_countor.predict(rp_reshape)))\n",
    "    return ctor"
   ]
  },
  {
   "cell_type": "code",
   "execution_count": 4,
   "metadata": {},
   "outputs": [],
   "source": [
    "CHUNK = 1024\n",
    "FORMAT = pyaudio.paInt16\n",
    "CHANNELS = 1\n",
    "RATE = 16000\n",
    "RECORD_SECONDS = 1000\n",
    "pad = pyaudio.PyAudio()\n",
    "stream = pad.open(format=FORMAT, channels=CHANNELS, rate=RATE, input=True, frames_per_buffer=CHUNK)"
   ]
  },
  {
   "cell_type": "code",
   "execution_count": null,
   "metadata": {},
   "outputs": [
    {
     "name": "stdout",
     "output_type": "stream",
     "text": [
      "开始录音\n"
     ]
    },
    {
     "name": "stderr",
     "output_type": "stream",
     "text": [
      "c:\\program files\\python37\\lib\\site-packages\\ipykernel_launcher.py:29: DeprecationWarning: The binary mode of fromstring is deprecated, as it behaves surprisingly on unicode inputs. Use frombuffer instead\n"
     ]
    },
    {
     "name": "stdout",
     "output_type": "stream",
     "text": [
      "0000000000000000000000000000000000000000000000111111110000000000000000000000000000000000000111000000000000000000000011111100011111111000000000000000011111010000000111100000000001110000000000000111111111000000000000000000000000000000001110000000000000000000000000000010000000000000000111111000"
     ]
    }
   ],
   "source": [
    "print(\"开始录音\")\n",
    "q = IQueue(5)\n",
    "last_ctor = 0\n",
    "countor = 0\n",
    "for t in range(0, int(RATE / CHUNK * RECORD_SECONDS)):\n",
    "    data = stream.read(CHUNK)    \n",
    "    epd, soundBytes = epd_predict(data, CHUNK)     \n",
    "    #print(epd, end=\"\")\n",
    "    if epd == 1:\n",
    "        rp = recognition_predict(soundBytes)       \n",
    "        q.push(rp)\n",
    "        if q.size == 5 :\n",
    "            ctor = countor_predict(q)      \n",
    "            print(ctor, end=\"\")\n",
    "            \n",
    "        \n",
    "print(\"结束录音\")"
   ]
  },
  {
   "cell_type": "code",
   "execution_count": null,
   "metadata": {},
   "outputs": [],
   "source": []
  }
 ],
 "metadata": {
  "kernelspec": {
   "display_name": "Python 3",
   "language": "python",
   "name": "python3"
  },
  "language_info": {
   "codemirror_mode": {
    "name": "ipython",
    "version": 3
   },
   "file_extension": ".py",
   "mimetype": "text/x-python",
   "name": "python",
   "nbconvert_exporter": "python",
   "pygments_lexer": "ipython3",
   "version": "3.7.4"
  }
 },
 "nbformat": 4,
 "nbformat_minor": 2
}
