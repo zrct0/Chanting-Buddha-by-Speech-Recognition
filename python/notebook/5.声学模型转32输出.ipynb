{
 "cells": [
  {
   "cell_type": "code",
   "execution_count": 2,
   "metadata": {},
   "outputs": [],
   "source": [
    "import tensorflow as tf"
   ]
  },
  {
   "cell_type": "code",
   "execution_count": 1,
   "metadata": {},
   "outputs": [
    {
     "name": "stdout",
     "output_type": "stream",
     "text": [
      "convert:D:\\语音识别\\念佛计数\\h5\\\\ACOUSTIC_MODEL_32_南无观世音菩萨.h5\n"
     ]
    }
   ],
   "source": [
    "import tensorflow as tf\n",
    "fohao = \"阿弥陀佛\"\n",
    "\n",
    "model_rec = tf.keras.Sequential()\n",
    "model_rec.add(tf.keras.layers.Conv2D(256, (3,3), input_shape=(5,39,1), activation='relu'))\n",
    "model_rec.add(tf.keras.layers.Conv2D(256, (3,3), activation='relu'))\n",
    "model_rec.add(tf.keras.layers.GlobalAveragePooling2D())\n",
    "model_rec.add(tf.keras.layers.Dense(512, activation='relu'))\n",
    "model_rec.add(tf.keras.layers.Dense(32, activation='relu'))\n",
    "\n",
    "MODEL_SAVEFILE_PATH = \"{}ACOUSTIC_MODEL_{}.h5\".format(r\"D:\\语音识别\\念佛计数\\h5\\\\\", fohao)\n",
    "MODEL_TO_SAVEFILE_PATH = \"{}ACOUSTIC_MODEL_32_{}.h5\".format(r\"D:\\语音识别\\念佛计数\\h5\\\\\", fohao)\n",
    "model_rec.load_weights(MODEL_SAVEFILE_PATH, by_name=True)\n",
    "model_rec.compile(optimizer=tf.keras.optimizers.Adam(), loss='sparse_categorical_crossentropy', metrics=['acc'])\n",
    "model_rec.save(MODEL_TO_SAVEFILE_PATH)\n",
    "print(\"convert:{}\".format(MODEL_TO_SAVEFILE_PATH))"
   ]
  },
  {
   "cell_type": "code",
   "execution_count": null,
   "metadata": {},
   "outputs": [],
   "source": []
  }
 ],
 "metadata": {
  "kernelspec": {
   "display_name": "Python 3",
   "language": "python",
   "name": "python3"
  },
  "language_info": {
   "codemirror_mode": {
    "name": "ipython",
    "version": 3
   },
   "file_extension": ".py",
   "mimetype": "text/x-python",
   "name": "python",
   "nbconvert_exporter": "python",
   "pygments_lexer": "ipython3",
   "version": "3.7.4"
  }
 },
 "nbformat": 4,
 "nbformat_minor": 2
}
